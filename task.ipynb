{
 "cells": [
  {
   "cell_type": "markdown",
   "metadata": {},
   "source": [
    "# Функции"
   ]
  },
  {
   "cell_type": "code",
   "execution_count": 187,
   "metadata": {
    "scrolled": false
   },
   "outputs": [
    {
     "name": "stdout",
     "output_type": "stream",
     "text": [
      "Введите команду:p\n",
      "Введите номер документа:12\n",
      "Документ не найден в базе\n",
      "Введите команду:as\n",
      "Введите номер полки:34\n",
      "Полка добавлена. Текущий перечень полок:1,2,3,34\n",
      "Введите команду:ds\n",
      "Введите номер полки:34\n",
      "Полка удалена. Текущий перечень полок:1,2,3\n",
      "Введите команду:ds\n",
      "Введите номер полки:3\n",
      "Полка удалена. Текущий перечень полок:1,2\n",
      "Введите команду:ds\n",
      "Введите номер полки:1\n",
      "На полке есть документа, удалите их перед удалением полки. Текущий перечень полок1,2\n",
      "Введите команду:q\n",
      "До Свидания!\n"
     ]
    }
   ],
   "source": [
    "documents = [{'type': 'passport', 'number': '2207 876234', 'name': 'Василий Гупкин'},\n",
    "{'type': 'invoice', 'number': '11-2', 'name': 'Геннадий Покемонов'},\n",
    "{'type': 'insurance', 'number': '10006', 'name': 'Аристарх Павлов'}]\n",
    "directories = {'1': ['2207 876234', '11-2'],'2': ['10006'],'3': []}\n",
    "\n",
    "    \n",
    "def masters_documents(docs):\n",
    "    '''Поиск владельца документа'''\n",
    "    search_name = input('Введите номер документа:')\n",
    "    name = [i.get('name') for i in docs if i.get('number')==search_name]\n",
    "    if len(name)==0:\n",
    "        return 'Документ не найден в базе'\n",
    "    else:\n",
    "        return 'Владелец документа: ' + ''.join(name)\n",
    "    \n",
    "def dir_documents(direc):\n",
    "    '''Поиск полки документа'''      \n",
    "    search_doc = input('Введите номер документа:')\n",
    "    polka = [k for k,i in direc.items() if search_doc in i]\n",
    "    if len(polka)==0:\n",
    "        return 'Документ не найден в базе'\n",
    "    else:\n",
    "        return 'Документ хранится на полке: ' + ''.join(polka)\n",
    "    \n",
    "def all_documents(docs,direc):\n",
    "    '''Информация по всем документам'''\n",
    "    for i in docs:\n",
    "        polka = [k for k,n in direc.items() if i['number'] in n]\n",
    "        print('№: '+ i['number'] + ',', 'тип: ' + i['type'] + ',', 'владелец: ' + i['name'] + ',', 'полка хранения:' + ''.join(polka))\n",
    "        \n",
    "        \n",
    "def add_dir(direc):\n",
    "    '''Добавление полки'''\n",
    "    search_dic = input('Введите номер полки:')\n",
    "    polka = [k for k in direc.keys() if search_dic == k]\n",
    "    if len(polka)== 0:\n",
    "        direc.setdefault(search_dic, [])\n",
    "        return 'Полка добавлена. Текущий перечень полок:' + ','.join(direc.keys())\n",
    "    else:\n",
    "        return 'Такая полка уже существует. Текущий перечень полок:' + ','.join(direc.keys())\n",
    "    \n",
    "def del_dir(direc):\n",
    "    '''Удаление пустой полки'''\n",
    "    search_dic = input('Введите номер полки:')\n",
    "    polka = [k for k in direc.keys() if search_dic == k]\n",
    "    if len(polka)== 0:\n",
    "        return 'Такой полки не существует. Текущий перечень полок:' + ','.join(direc.keys())\n",
    "    else:\n",
    "        if len(directories.get(search_dic))==0:\n",
    "            del direc[search_dic]\n",
    "            return 'Полка удалена. Текущий перечень полок:' + ','.join(direc.keys())\n",
    "        else:\n",
    "            return 'На полке есть документа, удалите их перед удалением полки. Текущий перечень полок' + ','.join(direc.keys())\n",
    "    \n",
    "    \n",
    "\n",
    "while True:\n",
    "    command=input('Введите команду:')\n",
    "    if command=='p':\n",
    "        print(masters_documents(documents))\n",
    "    elif command=='s':\n",
    "        print(dir_documents(directories))\n",
    "    elif command=='l':\n",
    "        all_documents(documents,directories)\n",
    "    elif command=='as':\n",
    "        print(add_dir(directories))\n",
    "    elif command=='ds':\n",
    "        print(del_dir(directories))\n",
    "    elif command == 'q':\n",
    "        print('До Свидания!')\n",
    "        break"
   ]
  },
  {
   "cell_type": "code",
   "execution_count": 177,
   "metadata": {},
   "outputs": [
    {
     "name": "stdout",
     "output_type": "stream",
     "text": [
      "0\n"
     ]
    }
   ],
   "source": [
    "documents = [{'type': 'passport', 'number': '2207 876234', 'name': 'Василий Гупкин'},\n",
    "{'type': 'invoice', 'number': '11-2', 'name': 'Геннадий Покемонов'},\n",
    "{'type': 'insurance', 'number': '10006', 'name': 'Аристарх Павлов'}]\n",
    "directories = {'1': ['2207 876234', '11-2'],'2': ['10006'],'3': []}\n",
    "\n",
    "print(len(directories.get('3')))"
   ]
  },
  {
   "cell_type": "code",
   "execution_count": null,
   "metadata": {},
   "outputs": [],
   "source": []
  }
 ],
 "metadata": {
  "kernelspec": {
   "display_name": "Python 3",
   "language": "python",
   "name": "python3"
  },
  "language_info": {
   "codemirror_mode": {
    "name": "ipython",
    "version": 3
   },
   "file_extension": ".py",
   "mimetype": "text/x-python",
   "name": "python",
   "nbconvert_exporter": "python",
   "pygments_lexer": "ipython3",
   "version": "3.8.5"
  }
 },
 "nbformat": 4,
 "nbformat_minor": 4
}
